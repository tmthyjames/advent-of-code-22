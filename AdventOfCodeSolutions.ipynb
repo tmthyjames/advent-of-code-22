{
 "cells": [
  {
   "cell_type": "code",
   "execution_count": 61,
   "metadata": {},
   "outputs": [
    {
     "data": {
      "text/html": [
       "<style>.container{width:99%}</style>\n"
      ],
      "text/plain": [
       "<IPython.core.display.HTML object>"
      ]
     },
     "metadata": {},
     "output_type": "display_data"
    }
   ],
   "source": [
    "%%html\n",
    "<style>.container{width:99%}</style>"
   ]
  },
  {
   "cell_type": "markdown",
   "metadata": {},
   "source": [
    "# Day one"
   ]
  },
  {
   "cell_type": "markdown",
   "metadata": {},
   "source": [
    "### Part one"
   ]
  },
  {
   "cell_type": "code",
   "execution_count": 99,
   "metadata": {},
   "outputs": [
    {
     "name": "stdout",
     "output_type": "stream",
     "text": [
      "66306\n"
     ]
    }
   ],
   "source": [
    "with open('inputs/dayone.txt') as f:\n",
    "    calorie_input = f.read().split('\\n\\n')\n",
    "\n",
    "elves = []\n",
    "for calories in calorie_input:\n",
    "    elves.append(sum([int(calorie) for calorie in calories.split('\\n')]))\n",
    "    \n",
    "print(max(elves))"
   ]
  },
  {
   "cell_type": "markdown",
   "metadata": {},
   "source": [
    "#### Part two"
   ]
  },
  {
   "cell_type": "code",
   "execution_count": 32,
   "metadata": {
    "scrolled": true
   },
   "outputs": [
    {
     "data": {
      "text/plain": [
       "195292"
      ]
     },
     "execution_count": 32,
     "metadata": {},
     "output_type": "execute_result"
    }
   ],
   "source": [
    "sum(sorted(elves, reverse=True)[:3])"
   ]
  },
  {
   "cell_type": "markdown",
   "metadata": {},
   "source": [
    "# Day two"
   ]
  },
  {
   "cell_type": "markdown",
   "metadata": {},
   "source": [
    "### part one"
   ]
  },
  {
   "cell_type": "code",
   "execution_count": 94,
   "metadata": {},
   "outputs": [
    {
     "name": "stdout",
     "output_type": "stream",
     "text": [
      "12679\n"
     ]
    }
   ],
   "source": [
    "def calculate_points(their_move, your_move):\n",
    "    their_move_points = point_mapper[their_move]\n",
    "    your_move_points = point_mapper[your_move]\n",
    "    \n",
    "    action = [their_move, your_move]\n",
    "    \n",
    "    if their_move == your_move:\n",
    "        their_result = your_result = 'draw'\n",
    "    elif action in your_winning_actions:\n",
    "        your_result, their_result = 'win', 'lose'\n",
    "    elif action not in your_winning_actions:\n",
    "        their_result, your_result = 'win', 'lose'\n",
    "        \n",
    "    their_round_points = point_mapper[their_result]\n",
    "    your_round_points = point_mapper[your_result]\n",
    "    \n",
    "    return (their_move_points + their_round_points, your_move_points + your_round_points)\n",
    "\n",
    "\n",
    "with open('inputs/daytwo.txt') as f:\n",
    "    moves = f.read().split('\\n')\n",
    "    round_inputs = [move.split() for move in moves]\n",
    "\n",
    "point_mapper = {\n",
    "    'rock': 1,\n",
    "    'paper': 2,\n",
    "    'scissors': 3,\n",
    "    'lose': 0,\n",
    "    'win': 6,\n",
    "    'draw': 3\n",
    "}\n",
    "\n",
    "move_mapper = {\n",
    "    'A': 'rock',\n",
    "    'B': 'paper',\n",
    "    'C': 'scissors',\n",
    "    'X': 'rock',\n",
    "    'Y': 'paper',\n",
    "    'Z': 'scissors',\n",
    "}\n",
    "\n",
    "your_winning_actions = [\n",
    "    ['rock', 'paper'],\n",
    "    ['paper', 'scissors'],\n",
    "    ['scissors', 'rock']\n",
    "]\n",
    "\n",
    "their_total_points = 0\n",
    "your_total_points = 0\n",
    "\n",
    "for round_ in round_inputs:\n",
    "    their_move = move_mapper[round_[0]]\n",
    "    your_move = move_mapper[round_[1]]\n",
    "    \n",
    "    their_round_points, your_round_points = calculate_points(their_move, your_move)\n",
    "    \n",
    "    your_total_points += your_round_points\n",
    "    their_total_points += their_round_points\n",
    "\n",
    "print(your_total_points)"
   ]
  },
  {
   "cell_type": "markdown",
   "metadata": {},
   "source": [
    "### part two"
   ]
  },
  {
   "cell_type": "code",
   "execution_count": 97,
   "metadata": {},
   "outputs": [
    {
     "name": "stdout",
     "output_type": "stream",
     "text": [
      "14470\n"
     ]
    }
   ],
   "source": [
    "round_decider = {\n",
    "    'scissors': {\n",
    "        'X': 'paper',\n",
    "        'Y': 'scissors',\n",
    "        'Z': 'rock'\n",
    "    },\n",
    "    'rock': {\n",
    "        'X': 'scissors',\n",
    "        'Y': 'rock',\n",
    "        'Z': 'paper'\n",
    "    },\n",
    "    'paper': {\n",
    "        'X': 'rock',\n",
    "        'Y': 'paper',\n",
    "        'Z': 'scissors'\n",
    "    }\n",
    "}\n",
    "\n",
    "their_total_points = 0\n",
    "your_total_points = 0\n",
    "for round_ in round_inputs:\n",
    "    their_move = move_mapper[round_[0]] \n",
    "    your_move = round_decider[move_mapper[round_[0]]][round_[1]]\n",
    "    \n",
    "    their_round_points, your_round_points = calculate_points(their_move, your_move)\n",
    "    \n",
    "    your_total_points += your_round_points\n",
    "    their_total_points += their_round_points\n",
    "\n",
    "print(your_total_points)"
   ]
  },
  {
   "cell_type": "code",
   "execution_count": null,
   "metadata": {},
   "outputs": [],
   "source": []
  },
  {
   "cell_type": "code",
   "execution_count": null,
   "metadata": {},
   "outputs": [],
   "source": []
  },
  {
   "cell_type": "code",
   "execution_count": null,
   "metadata": {},
   "outputs": [],
   "source": []
  },
  {
   "cell_type": "code",
   "execution_count": null,
   "metadata": {},
   "outputs": [],
   "source": []
  },
  {
   "cell_type": "code",
   "execution_count": null,
   "metadata": {},
   "outputs": [],
   "source": []
  },
  {
   "cell_type": "code",
   "execution_count": null,
   "metadata": {},
   "outputs": [],
   "source": []
  }
 ],
 "metadata": {
  "kernelspec": {
   "display_name": "Python 3",
   "language": "python",
   "name": "python3"
  },
  "language_info": {
   "codemirror_mode": {
    "name": "ipython",
    "version": 3
   },
   "file_extension": ".py",
   "mimetype": "text/x-python",
   "name": "python",
   "nbconvert_exporter": "python",
   "pygments_lexer": "ipython3",
   "version": "3.8.3"
  }
 },
 "nbformat": 4,
 "nbformat_minor": 4
}
